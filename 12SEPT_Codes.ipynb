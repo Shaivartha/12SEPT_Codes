{
  "nbformat": 4,
  "nbformat_minor": 0,
  "metadata": {
    "colab": {
      "provenance": [],
      "authorship_tag": "ABX9TyN4InTAwPrTY6nYHtOj/xPO",
      "include_colab_link": true
    },
    "kernelspec": {
      "name": "python3",
      "display_name": "Python 3"
    },
    "language_info": {
      "name": "python"
    }
  },
  "cells": [
    {
      "cell_type": "markdown",
      "metadata": {
        "id": "view-in-github",
        "colab_type": "text"
      },
      "source": [
        "<a href=\"https://colab.research.google.com/github/Shaivartha/12SEPT_Codes/blob/main/12SEPT_Codes.ipynb\" target=\"_parent\"><img src=\"https://colab.research.google.com/assets/colab-badge.svg\" alt=\"Open In Colab\"/></a>"
      ]
    },
    {
      "cell_type": "markdown",
      "source": [
        "> *NumPy.org : website to learn about numpy*"
      ],
      "metadata": {
        "id": "KzzQyaVammJI"
      }
    },
    {
      "cell_type": "markdown",
      "source": [
        "The regular expression r'\\bf[a-z]*' works as follows:\n",
        "\n",
        "\\b: This is a word boundary, ensuring that the match happens at the start of a word.\n",
        "\n",
        "f: The letter f specifies that the word should start with the letter \"f\".\n",
        "\n",
        "[a-z]*: This matches any sequence of lowercase alphabetic characters (from 'a' to 'z') following the \"f\", including zero or more letters.\n",
        "\n",
        "In the string 'which foot or hand fell fastest', the re.findall() function looks for words starting with \"f\" and returns them. Here's the breakdown:\n",
        "\n",
        "foot (starts with 'f')\n",
        "fell (starts with 'f')\n",
        "fastest (starts with 'f')"
      ],
      "metadata": {
        "id": "xL87CzFjpXNk"
      }
    },
    {
      "cell_type": "code",
      "execution_count": null,
      "metadata": {
        "id": "YibMAoIog5Yb",
        "colab": {
          "base_uri": "https://localhost:8080/"
        },
        "outputId": "75a3fb48-6bf3-425f-992d-e17129cad798"
      },
      "outputs": [
        {
          "output_type": "execute_result",
          "data": {
            "text/plain": [
              "['foot', 'fell', 'fastest']"
            ]
          },
          "metadata": {},
          "execution_count": 11
        }
      ],
      "source": [
        "import re\n",
        "re.findall(r'\\bf[a-z]*', 'which foot or hand fell fastest')"
      ]
    },
    {
      "cell_type": "code",
      "source": [
        "import numpy as np\n",
        "\n",
        "def findCharacters(name):\n",
        "  chars = np.unique(list(name))\n",
        "  print(chars)\n",
        "  length = len(chars)\n",
        "  return length\n",
        "\n",
        "name = \"sarthak mishra\"\n",
        "length = findCharacters(name)\n",
        "print(length)"
      ],
      "metadata": {
        "colab": {
          "base_uri": "https://localhost:8080/"
        },
        "id": "NcqAIIQNrBlH",
        "outputId": "2cd2370f-c7b1-4d2f-b640-510fc035c98d"
      },
      "execution_count": null,
      "outputs": [
        {
          "output_type": "stream",
          "name": "stdout",
          "text": [
            "[' ' 'a' 'h' 'i' 'k' 'm' 'r' 's' 't']\n",
            "9\n"
          ]
        }
      ]
    },
    {
      "cell_type": "code",
      "source": [
        "#string\n",
        "#slicing\n",
        "\n",
        "b = \"hello, world!\"\n",
        "print(b[2:5])\n",
        "\n",
        "#upper lower strip replace\n",
        "print(b.upper())\n",
        "print(b.lower())\n",
        "print(b.strip())\n",
        "print(b.replace(\"e\", \"a\"))\n",
        "print(b.split())\n",
        "print(b.count(\"o\"))\n",
        "print(b.find(\"world\"))\n"
      ],
      "metadata": {
        "colab": {
          "base_uri": "https://localhost:8080/"
        },
        "id": "MgcaWYCYrgOU",
        "outputId": "c9ac1191-ea71-43e7-da3a-fb5dd7c671c9"
      },
      "execution_count": null,
      "outputs": [
        {
          "output_type": "stream",
          "name": "stdout",
          "text": [
            "llo\n",
            "HELLO, WORLD!\n",
            "hello, world!\n",
            "hello, world!\n",
            "hallo, world!\n",
            "['hello,', 'world!']\n",
            "2\n",
            "7\n"
          ]
        }
      ]
    },
    {
      "cell_type": "code",
      "source": [
        "s ='5'\n",
        "a =5\n",
        "\n",
        "b = s+a #implicit which leads to type error while type casting\n",
        "print(b)"
      ],
      "metadata": {
        "colab": {
          "base_uri": "https://localhost:8080/",
          "height": 198
        },
        "id": "R0C5kX-MuQuT",
        "outputId": "10ac5f57-43e3-484d-c8a7-21cc90b958bf"
      },
      "execution_count": null,
      "outputs": [
        {
          "output_type": "error",
          "ename": "TypeError",
          "evalue": "can only concatenate str (not \"int\") to str",
          "traceback": [
            "\u001b[0;31m---------------------------------------------------------------------------\u001b[0m",
            "\u001b[0;31mTypeError\u001b[0m                                 Traceback (most recent call last)",
            "\u001b[0;32m<ipython-input-20-23dfaa01736c>\u001b[0m in \u001b[0;36m<cell line: 4>\u001b[0;34m()\u001b[0m\n\u001b[1;32m      2\u001b[0m \u001b[0ma\u001b[0m \u001b[0;34m=\u001b[0m\u001b[0;36m5\u001b[0m\u001b[0;34m\u001b[0m\u001b[0;34m\u001b[0m\u001b[0m\n\u001b[1;32m      3\u001b[0m \u001b[0;34m\u001b[0m\u001b[0m\n\u001b[0;32m----> 4\u001b[0;31m \u001b[0mb\u001b[0m \u001b[0;34m=\u001b[0m \u001b[0ms\u001b[0m\u001b[0;34m+\u001b[0m\u001b[0ma\u001b[0m \u001b[0;31m#implicit which leads to type error while type casting\u001b[0m\u001b[0;34m\u001b[0m\u001b[0;34m\u001b[0m\u001b[0m\n\u001b[0m\u001b[1;32m      5\u001b[0m \u001b[0mprint\u001b[0m\u001b[0;34m(\u001b[0m\u001b[0mb\u001b[0m\u001b[0;34m)\u001b[0m\u001b[0;34m\u001b[0m\u001b[0;34m\u001b[0m\u001b[0m\n",
            "\u001b[0;31mTypeError\u001b[0m: can only concatenate str (not \"int\") to str"
          ]
        }
      ]
    },
    {
      "cell_type": "code",
      "source": [
        "s ='5'\n",
        "a =5\n",
        "\n",
        "b = s+str(a) #explicit which leads to concatenation\n",
        "print(b)"
      ],
      "metadata": {
        "colab": {
          "base_uri": "https://localhost:8080/"
        },
        "id": "sGwx98nyu5MJ",
        "outputId": "b02043ba-3173-4f25-a539-2f2dc4bcb260"
      },
      "execution_count": null,
      "outputs": [
        {
          "output_type": "stream",
          "name": "stdout",
          "text": [
            "55\n"
          ]
        }
      ]
    },
    {
      "cell_type": "code",
      "source": [],
      "metadata": {
        "id": "RdV4oM7-vNR0"
      },
      "execution_count": null,
      "outputs": []
    }
  ]
}